{
  "nbformat": 4,
  "nbformat_minor": 0,
  "metadata": {
    "colab": {
      "provenance": []
    },
    "kernelspec": {
      "name": "python3",
      "display_name": "Python 3"
    },
    "language_info": {
      "name": "python"
    }
  },
  "cells": [
    {
      "cell_type": "code",
      "execution_count": 1,
      "metadata": {
        "id": "nMSoPizluG1a"
      },
      "outputs": [],
      "source": [
        "from collections import Counter\n",
        "import heapq\n",
        "\n",
        "def huffman_encode(data):\n",
        "    # Calculate the frequency of each character in the input data\n",
        "    frequency = Counter(data)\n",
        "\n",
        "    # Create a list of tuples (frequency, character) from the frequency dict\n",
        "    heap = [(frequency[char], char) for char in frequency]\n",
        "\n",
        "    # Use heapq to create a priority queue of the tuples\n",
        "    heapq.heapify(heap)\n",
        "\n",
        "    # Create the Huffman tree by repeatedly merging the lowest frequency nodes\n",
        "    while len(heap) > 1:\n",
        "        freq1, char1 = heapq.heappop(heap)\n",
        "        freq2, char2 = heapq.heappop(heap)\n",
        "        heapq.heappush(heap, (freq1 + freq2, char1, char2))\n",
        "\n",
        "    # Create a mapping of characters to their codewords\n",
        "    codewords = {}\n",
        "    create_codewords(heap[0], \"\", codewords)\n",
        "\n",
        "    # Encode the input data using the codewords\n",
        "    encoded_data = \"\"\n",
        "    for char in data:\n",
        "        encoded_data += codewords[char]\n",
        "\n",
        "    return encoded_data, codewords\n",
        "\n",
        "def create_codewords(node, codeword, codewords):\n",
        "    # If this is a leaf node, add the codeword to the codewords mapping\n",
        "    if len(node) == 2:\n",
        "        codewords[node[1]] = codeword\n",
        "    else:\n",
        "        # Recursively create codewords for the left and right branches of the tree\n",
        "        create_codewords(node[1], codeword + \"0\", codewords)\n",
        "        create_codewords(node[2], codeword + \"1\", codewords)"
      ]
    }
  ]
}